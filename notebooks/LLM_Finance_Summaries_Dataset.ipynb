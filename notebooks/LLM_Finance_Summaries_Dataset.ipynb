{
  "nbformat": 4,
  "nbformat_minor": 0,
  "metadata": {
    "colab": {
      "provenance": []
    },
    "kernelspec": {
      "name": "python3",
      "display_name": "Python 3"
    },
    "language_info": {
      "name": "python"
    }
  },
  "cells": [
    {
      "cell_type": "code",
      "source": [
        "!python --version"
      ],
      "metadata": {
        "colab": {
          "base_uri": "https://localhost:8080/"
        },
        "id": "RcKH9lK0uGct",
        "outputId": "830fdab9-ddb7-4ab2-e572-17d9bacf4d73"
      },
      "execution_count": 1,
      "outputs": [
        {
          "output_type": "stream",
          "name": "stdout",
          "text": [
            "Python 3.11.12\n"
          ]
        }
      ]
    },
    {
      "cell_type": "markdown",
      "source": [
        "## Importing Libraries and API Setup\n"
      ],
      "metadata": {
        "id": "OPH5CJmzec6Q"
      }
    },
    {
      "cell_type": "code",
      "source": [
        "import json\n",
        "import requests\n",
        "from bs4 import BeautifulSoup\n",
        "import re\n",
        "from transformers import pipeline\n",
        "from tqdm import tqdm\n",
        "from google.colab import userdata\n",
        "\n",
        "api_key = userdata.get('NewsAPI')\n",
        "base_url = \"https://newsapi.org/v2/everything\"\n",
        "\n",
        "# Possible models we could use\n",
        "# facebook/bart-large-cnn\n",
        "# facebook/bart-large-xsum\n",
        "# google/pegasus-xsum\n",
        "# google/pegasus-multi_news\n",
        "# google/bigbird-pegasus-large-arxiv\n",
        "# google/pegasus-cnn_dailymail"
      ],
      "metadata": {
        "id": "V7uMIaLitJDb"
      },
      "execution_count": 2,
      "outputs": []
    },
    {
      "cell_type": "markdown",
      "source": [
        "## Fetching Article Text and Getting Apple Finance Articles\n",
        "\n",
        "In essence, this code retrieves news articles about Apple's finances from the News API, extracts relevant information, fetches the full content of each article, and stores all this data in a structured way."
      ],
      "metadata": {
        "id": "v5Q-TMyletK_"
      }
    },
    {
      "cell_type": "code",
      "source": [
        "def fetch_full_article_text(url):\n",
        "    \"\"\"\n",
        "    The function fetches the full text content of an article from a given URL by extracting paragraphs\n",
        "    or main article tags using BeautifulSoup in Python.\n",
        "\n",
        "    :param url: The `fetch_full_article_text` function is designed to fetch the full text content of an\n",
        "    article from a given URL. It uses the `requests` library to make an HTTP request to the URL and\n",
        "    `BeautifulSoup` to parse the HTML content of the page\n",
        "    :return: The function `fetch_full_article_text(url)` returns the full text content of the article\n",
        "    found at the specified URL. If there is an error during the process of fetching and parsing the\n",
        "    webpage, it will return `None`.\n",
        "    \"\"\"\n",
        "    try:\n",
        "        page = requests.get(url, timeout=5)\n",
        "        soup = BeautifulSoup(page.content, \"html.parser\")\n",
        "\n",
        "        # Extract paragraphs or main article tag\n",
        "        paragraphs = soup.find_all(\"p\")\n",
        "        full_text = \" \".join([p.get_text() for p in paragraphs])\n",
        "\n",
        "        return full_text.strip()\n",
        "    except Exception as e:\n",
        "        print(f\"Error fetching full text from {url}: {e}\")\n",
        "        return None\n",
        "\n",
        "def get_apple_finance_articles(api_key, base_url, num_articles=5):\n",
        "    \"\"\"\n",
        "    The function `get_apple_finance_articles` retrieves a specified number of finance articles related\n",
        "    to Apple using an API key and base URL.\n",
        "\n",
        "    :param api_key: The `api_key` parameter in the `get_apple_finance_articles` function is used to\n",
        "    authenticate your access to the API. It is a unique identifier that allows you to make requests to\n",
        "    the API and retrieve data related to Apple finance articles. You need to obtain this API key from\n",
        "    the API\n",
        "    :param base_url: The `base_url` parameter in the `get_apple_finance_articles` function is typically\n",
        "    the URL endpoint of the API you are making a request to in order to fetch Apple finance articles. It\n",
        "    should be a string representing the base URL of the API service you are using to retrieve the\n",
        "    articles\n",
        "    :param num_articles: The `num_articles` parameter in the `get_apple_finance_articles` function\n",
        "    specifies the number of articles you want to retrieve related to Apple finance. By default, it is\n",
        "    set to 5, but you can provide a different number when calling the function to fetch a specific\n",
        "    number of articles, defaults to 5 (optional)\n",
        "    :return: The function `get_apple_finance_articles` returns a list of dictionaries, where each\n",
        "    dictionary represents information about an article related to \"Apple finance\". The dictionary\n",
        "    contains keys such as \"source\", \"author\", \"publishedAt\", \"title\", \"description\", \"url\", \"content\",\n",
        "    and \"content_len\" for each article. If there is an error during the process of fetching articles,\n",
        "    it will return an empty list.\n",
        "    \"\"\"\n",
        "    # Keywords and parameters for the API request\n",
        "    query = \"Apple finance\"\n",
        "    query_params = {\n",
        "        \"q\": query,\n",
        "        \"apiKey\": api_key,\n",
        "        \"language\": \"en\",\n",
        "        \"sortBy\": \"relevancy\",  # Sort results by relevancy\n",
        "        \"pageSize\": num_articles  # Limit the number of results\n",
        "    }\n",
        "\n",
        "    try:\n",
        "        response = requests.get(base_url, params=query_params)\n",
        "        response.raise_for_status()  # Raise HTTPError for bad responses (4xx or 5xx)\n",
        "        data = response.json()\n",
        "\n",
        "        articles = []\n",
        "        if data[\"status\"] == \"ok\":\n",
        "            for article in data[\"articles\"]:\n",
        "                source = article.get(\"source\")\n",
        "                author = article.get(\"author\")\n",
        "                publishedAt = article.get(\"publishedAt\")\n",
        "                title = article.get(\"title\")\n",
        "                description = article.get(\"description\")\n",
        "                url = article.get(\"url\")\n",
        "                content = fetch_full_article_text(url)\n",
        "                content_len = len(content) if content else 0\n",
        "\n",
        "                if title and description and url: # Ensure article data exists\n",
        "                    article_info = {\n",
        "                        \"source\": source,\n",
        "                        \"author\": author,\n",
        "                        \"publishedAt\": publishedAt,\n",
        "                        \"title\": title,\n",
        "                        \"description\": description,\n",
        "                        \"url\": url,\n",
        "                        \"content\": content,\n",
        "                        \"content_len\": content_len\n",
        "                    }\n",
        "                    articles.append(article_info)\n",
        "\n",
        "        return articles\n",
        "    except requests.exceptions.RequestException as e:\n",
        "        print(f\"Error fetching articles: {e}\")\n",
        "        return []\n",
        "\n",
        "# Get the `num_articles` most relevant articles\n",
        "articles = get_apple_finance_articles(api_key, base_url, num_articles=100)"
      ],
      "metadata": {
        "id": "pTKIoNlsByVx"
      },
      "execution_count": 3,
      "outputs": []
    },
    {
      "cell_type": "code",
      "source": [
        "len(articles)"
      ],
      "metadata": {
        "colab": {
          "base_uri": "https://localhost:8080/"
        },
        "id": "tvEtDpLbFREW",
        "outputId": "3715a47b-3c13-4d3d-bc8b-9dd71479548b"
      },
      "execution_count": 4,
      "outputs": [
        {
          "output_type": "execute_result",
          "data": {
            "text/plain": [
              "91"
            ]
          },
          "metadata": {},
          "execution_count": 4
        }
      ]
    },
    {
      "cell_type": "code",
      "source": [
        "# Export articles to a JSON file\n",
        "try:\n",
        "    with open(\"articles.json\", \"w\") as json_file:\n",
        "        json.dump(articles, json_file, indent=4)  # Use indent for pretty printing\n",
        "    print(\"Articles exported to articles.json\")\n",
        "except Exception as e:\n",
        "    print(f\"Error exporting articles to JSON: {e}\")\n"
      ],
      "metadata": {
        "colab": {
          "base_uri": "https://localhost:8080/"
        },
        "id": "oYs2Wb2k8qrs",
        "outputId": "3c75fb77-a701-46b5-bbb7-d6247121008f"
      },
      "execution_count": 5,
      "outputs": [
        {
          "output_type": "stream",
          "name": "stdout",
          "text": [
            "Articles exported to articles.json\n"
          ]
        }
      ]
    },
    {
      "cell_type": "markdown",
      "source": [
        "## Data Cleaning and Preprocessing\n",
        "\n",
        "This part of the code focuses on cleaning and preparing the text of the articles for summarization. It involves two main functions: `clean_text` and `preprocess_articles`. It also defines two variables that dictate the length of tokens or text processed."
      ],
      "metadata": {
        "id": "ogjyS-5ue81W"
      }
    },
    {
      "cell_type": "code",
      "source": [
        "MAX_TOKENS = 1024  # model-specific, for BART/PEGASUS\n",
        "MAX_CHARS = 3000   # rough estimate if tokenization is too heavy\n",
        "\n",
        "def clean_text(text):\n",
        "    \"\"\"\n",
        "    The `clean_text` function removes HTML tags, normalizes whitespace, removes references, comments,\n",
        "    and URLs from the input text.\n",
        "\n",
        "    :param text: The `clean_text` function takes a text input and performs several cleaning operations\n",
        "    on it. It removes HTML tags, normalizes whitespace, removes references enclosed in square brackets,\n",
        "    removes comments enclosed in parentheses, and removes URLs. Finally, it strips any leading or\n",
        "    trailing whitespace before returning the cleaned text\n",
        "    :return: The `clean_text` function returns the cleaned version of the input text after removing HTML\n",
        "    tags, normalizing whitespace, removing references, comments, and URLs. The cleaned text is then\n",
        "    stripped of leading and trailing whitespaces before being returned.\n",
        "    \"\"\"\n",
        "    if not text:\n",
        "        return \"\"\n",
        "    text = re.sub(r\"<.*?>\", \"\", text)  # remove HTML tags\n",
        "    text = re.sub(r\"\\s+\", \" \", text) # normalize whitespace\n",
        "    text = re.sub(r\"\\[[^]]*\\]\", \"\", text)  # remove [references]\n",
        "    text = re.sub(r\"\\([^)]*\\)\", \"\", text)  # remove (comments)\n",
        "    text = re.sub(r\"http\\S+\", \"\", text)    # remove URLs\n",
        "    return text.strip()\n",
        "\n",
        "def preprocess_articles(news_items):\n",
        "    \"\"\"\n",
        "    The `preprocess_articles` function processes news articles by cleaning the content and filtering out\n",
        "    unusable articles based on their length.\n",
        "\n",
        "    :param news_items: The `preprocess_articles` function takes a list of news items as input. Each news\n",
        "    item is a dictionary containing information about an article, such as its title, content, URL,\n",
        "    source, author, publication date, description, and content length\n",
        "    :return: The `preprocess_articles` function processes a list of news items and returns a new list of\n",
        "    dictionaries containing information about each article. Each dictionary in the returned list\n",
        "    includes the following keys:\n",
        "    \"\"\"\n",
        "    processed = []\n",
        "    for article in news_items:\n",
        "        clean_content = clean_text(article.get(\"content\", \"\"))\n",
        "        if not clean_content or len(clean_content) < 200:\n",
        "            clean_content = clean_text(article.get(\"description\", \"\"))\n",
        "\n",
        "        if not clean_content or len(clean_content) < 200:\n",
        "            print(\"Article: \\\"\" + article.get(\"title\", \"\") + \"\\\" is unsuable!\")\n",
        "            print(\"Content: \\\"\" + article.get(\"content\", \"\") + \"\\\"\")\n",
        "            print(\"-\" * 20)\n",
        "            continue  # skip unusable articles\n",
        "\n",
        "        # if len(clean_content) > MAX_CHARS:\n",
        "        #     clean_content = clean_content[:MAX_CHARS]  # truncate\n",
        "\n",
        "        processed.append({\n",
        "            \"title\": article.get(\"title\", \"\"),\n",
        "            \"url\": article.get(\"url\", \"\"),\n",
        "            \"source\": article.get(\"source\", {}).get(\"name\", \"\"),\n",
        "            \"author\": article.get(\"author\", \"\"),\n",
        "            \"publishedAt\": article.get(\"publishedAt\", \"\"),\n",
        "            \"description\": article.get(\"description\", \"\"),\n",
        "            \"content\": article.get(\"content\", \"\"),\n",
        "            \"content_len\": article.get(\"content_len\", \"\"),\n",
        "            \"clean_content\": clean_content,\n",
        "            \"clean_content_len\": len(clean_content),\n",
        "        })\n",
        "    return processed"
      ],
      "metadata": {
        "id": "Zgf1lnRkaXbn"
      },
      "execution_count": 6,
      "outputs": []
    },
    {
      "cell_type": "code",
      "source": [
        "preprocessed_articles = preprocess_articles(articles)"
      ],
      "metadata": {
        "id": "pPbyJsugekeL",
        "colab": {
          "base_uri": "https://localhost:8080/"
        },
        "outputId": "cecbab09-80d2-4d01-a97d-74ba06d5e127"
      },
      "execution_count": 7,
      "outputs": [
        {
          "output_type": "stream",
          "name": "stdout",
          "text": [
            "Article: \"Tesla must do these 3 on its earnings call, or else\" is unsuable!\n",
            "Content: \"\"\n",
            "--------------------\n",
            "Article: \"Getting a tax refund from the CRA? Here's how you can get the most out of it\" is unsuable!\n",
            "Content: \"\"\n",
            "--------------------\n",
            "Article: \"Bitcoin inches closer to flipping NVIDIA in stunning market surge\" is unsuable!\n",
            "Content: \"Please enable JS and disable any ad blocker\"\n",
            "--------------------\n",
            "Article: \"Working from home is turning into 'return to the office or lose your bonus'\" is unsuable!\n",
            "Content: \"\"\n",
            "--------------------\n",
            "Article: \"London rents rise to record high for 14th consecutive month\" is unsuable!\n",
            "Content: \"\"\n",
            "--------------------\n",
            "Article: \"Stock market today: S&P 500, Nasdaq plunge, Dow drops 1,400 points as Trump's tariffs shock markets\" is unsuable!\n",
            "Content: \"\"\n",
            "--------------------\n",
            "Article: \"Stock market today: Dow surges 600 points, S&P 500 has best week since 2023 to cap wild week of tariff-fueled chaos\" is unsuable!\n",
            "Content: \"\"\n",
            "--------------------\n",
            "Article: \"Is Apple Inc. (AAPL) Among The Best Warren Buffett Stock Picks For Beginners?\" is unsuable!\n",
            "Content: \"\"\n",
            "--------------------\n"
          ]
        }
      ]
    },
    {
      "cell_type": "code",
      "source": [
        "len(preprocessed_articles)"
      ],
      "metadata": {
        "colab": {
          "base_uri": "https://localhost:8080/"
        },
        "id": "6Vs9L4Ir8FRm",
        "outputId": "5de443bc-8245-481e-d5ec-147c4bb88ce4"
      },
      "execution_count": 8,
      "outputs": [
        {
          "output_type": "execute_result",
          "data": {
            "text/plain": [
              "83"
            ]
          },
          "metadata": {},
          "execution_count": 8
        }
      ]
    },
    {
      "cell_type": "code",
      "source": [
        "preprocessed_articles[0]"
      ],
      "metadata": {
        "colab": {
          "base_uri": "https://localhost:8080/"
        },
        "id": "ENote9-AU0SU",
        "outputId": "e33c788a-0f5b-4d72-9f49-31539d5a8ecf"
      },
      "execution_count": 9,
      "outputs": [
        {
          "output_type": "execute_result",
          "data": {
            "text/plain": [
              "{'title': 'Apple May Face Criminal Charges for Allegedly Lying to a Federal Judge',\n",
              " 'url': 'https://www.wired.com/story/antitrust-judge-asks-doj-prosecute-apple/',\n",
              " 'source': 'Wired',\n",
              " 'author': 'Paresh Dave',\n",
              " 'publishedAt': '2025-05-01T00:20:26Z',\n",
              " 'description': 'A US judge says Apple deliberately chose not to comply with an order requiring it to loosen App Store rules—and then tried to cover up its disobedience.',\n",
              " 'content': 'Apple “willfully chose not to comply” with a court order to loosen its app store restrictions—and one of its executives lied under oath about the company’s plans, a federal judge wrote on Wednesday. Judge Yvonne Gonzalez Rogers has referred the situation to the US Attorney’s Office in San Francisco “to investigate whether criminal contempt proceedings are appropriate.” In 2021, Gonzalez Rogers presided over a lawsuit brought by Fortnite developer Epic Games over the iPhone maker’s allegedly anticompetitive practices that hampered the ability of developers to generate revenue from the App Store. This included Apple’s policy of taking a 30 percent commission on certain in-app purchases. While Gonzalez Rogers ultimately ruled in favor of Apple on most counts, she ordered the company to begin allowing developers to market ways to make in-app purchases outside of the App Store ecosystem. Apple responded by lowering its commission to 27 percent on purchases made elsewhere, but it also introduced a series of other changes, including showing so-called scare screens, to dissuade users from making purchases outside its ecosystem. Last year, Epic challenged in court how Apple was responding to the order, leading Gonzalez Rogers to require the tech giant to turn over documents that contributed to Wednesday\\'s contempt ruling. Apple pursued its noncompliance strategy “with the express intent to create new anticompetitive barriers which would, by design and in effect, maintain a valued revenue stream; a revenue stream previously found to be anticompetitive,” Gonzalez Rogers wrote in her ruling on Wednesday. “That it thought this court would tolerate such insubordination was a gross miscalculation.” She also said that Apple executives tried to hide the real motivations for the changes. “In stark contrast to Apple’s initial in-court testimony, contemporaneous business documents reveal that Apple knew exactly what it was doing and at every turn chose the most anticompetitive option,” Gonzalez Rogers said. She went as far as accusing Alex Roman, a vice president of finance at Apple, of lying during testimony in which he talked about how Apple came to its decision to go with a 27 percent commission on purchases made outside the App Store. “The testimony of Mr. Roman was replete with misdirection and outright lies,” the judge said. “We strongly disagree with the decision,” Apple spokesperson Olivia Dalton said in a statement to WIRED. \"We will comply with the court’s order and we will appeal.\" Roman did not immediately respond to a request for comment. Citing internal Apple documents from 2023, Gonzalez Rogers said Apple’s App Store chief Phillip Schiller “had advocated that Apple comply with the injunction” but that CEO Tim Cook “ignored Schiller and instead allowed Chief Financial Officer Luca Maestri and his finance team to convince him otherwise.” The judge demanded that Apple immediately comply with her earlier order. “This is an injunction, not a negotiation,” she wrote. “There are no do-overs once a party willfully disregards a court order. Time is of the essence. The Court will not tolerate further delays. As previously ordered, Apple will not impede competition.” Epic Games CEO Tim Sweeney posted on X that the new ruling would bring an end to “Apple’s 15-30% junk fees.” Update 4/30/25 10:00 ET: This story has been updated with a statement from Apple. In your inbox: Upgrade your life with WIRED-tested gear “Wi-Fi keeps going down”: Trump’s RTO mandate is going terribly Big Story: The worm that no computer scientist can crack Yuval Noah Harari: “Prepare to share the planet with AI superintelligence” Uncanny Valley: An insider look at the influence of Silicon Valley More From WIRED Reviews and Guides © 2025 Condé Nast. All rights reserved. WIRED may earn a portion of sales from products that are purchased through our site as part of our Affiliate Partnerships with retailers. The material on this site may not be reproduced, distributed, transmitted, cached or otherwise used, except with the prior written permission of Condé Nast. Ad Choices',\n",
              " 'content_len': 4100,\n",
              " 'clean_content': 'Apple “willfully chose not to comply” with a court order to loosen its app store restrictions—and one of its executives lied under oath about the company’s plans, a federal judge wrote on Wednesday. Judge Yvonne Gonzalez Rogers has referred the situation to the US Attorney’s Office in San Francisco “to investigate whether criminal contempt proceedings are appropriate.” In 2021, Gonzalez Rogers presided over a lawsuit brought by Fortnite developer Epic Games over the iPhone maker’s allegedly anticompetitive practices that hampered the ability of developers to generate revenue from the App Store. This included Apple’s policy of taking a 30 percent commission on certain in-app purchases. While Gonzalez Rogers ultimately ruled in favor of Apple on most counts, she ordered the company to begin allowing developers to market ways to make in-app purchases outside of the App Store ecosystem. Apple responded by lowering its commission to 27 percent on purchases made elsewhere, but it also introduced a series of other changes, including showing so-called scare screens, to dissuade users from making purchases outside its ecosystem. Last year, Epic challenged in court how Apple was responding to the order, leading Gonzalez Rogers to require the tech giant to turn over documents that contributed to Wednesday\\'s contempt ruling. Apple pursued its noncompliance strategy “with the express intent to create new anticompetitive barriers which would, by design and in effect, maintain a valued revenue stream; a revenue stream previously found to be anticompetitive,” Gonzalez Rogers wrote in her ruling on Wednesday. “That it thought this court would tolerate such insubordination was a gross miscalculation.” She also said that Apple executives tried to hide the real motivations for the changes. “In stark contrast to Apple’s initial in-court testimony, contemporaneous business documents reveal that Apple knew exactly what it was doing and at every turn chose the most anticompetitive option,” Gonzalez Rogers said. She went as far as accusing Alex Roman, a vice president of finance at Apple, of lying during testimony in which he talked about how Apple came to its decision to go with a 27 percent commission on purchases made outside the App Store. “The testimony of Mr. Roman was replete with misdirection and outright lies,” the judge said. “We strongly disagree with the decision,” Apple spokesperson Olivia Dalton said in a statement to WIRED. \"We will comply with the court’s order and we will appeal.\" Roman did not immediately respond to a request for comment. Citing internal Apple documents from 2023, Gonzalez Rogers said Apple’s App Store chief Phillip Schiller “had advocated that Apple comply with the injunction” but that CEO Tim Cook “ignored Schiller and instead allowed Chief Financial Officer Luca Maestri and his finance team to convince him otherwise.” The judge demanded that Apple immediately comply with her earlier order. “This is an injunction, not a negotiation,” she wrote. “There are no do-overs once a party willfully disregards a court order. Time is of the essence. The Court will not tolerate further delays. As previously ordered, Apple will not impede competition.” Epic Games CEO Tim Sweeney posted on X that the new ruling would bring an end to “Apple’s 15-30% junk fees.” Update 4/30/25 10:00 ET: This story has been updated with a statement from Apple. In your inbox: Upgrade your life with WIRED-tested gear “Wi-Fi keeps going down”: Trump’s RTO mandate is going terribly Big Story: The worm that no computer scientist can crack Yuval Noah Harari: “Prepare to share the planet with AI superintelligence” Uncanny Valley: An insider look at the influence of Silicon Valley More From WIRED Reviews and Guides © 2025 Condé Nast. All rights reserved. WIRED may earn a portion of sales from products that are purchased through our site as part of our Affiliate Partnerships with retailers. The material on this site may not be reproduced, distributed, transmitted, cached or otherwise used, except with the prior written permission of Condé Nast. Ad Choices',\n",
              " 'clean_content_len': 4100}"
            ]
          },
          "metadata": {},
          "execution_count": 9
        }
      ]
    },
    {
      "cell_type": "markdown",
      "source": [
        "##Model Selection and Initialization\n",
        "\n",
        "This code snippet is responsible for selecting the models that will be used for text summarization and initializing them for use."
      ],
      "metadata": {
        "id": "VKiBHgQlfK8H"
      }
    },
    {
      "cell_type": "code",
      "source": [
        "# List of models we want to use\n",
        "model_names = [\n",
        "    \"facebook/bart-large-cnn\",\n",
        "    # \"facebook/bart-large-xsum\",\n",
        "    \"google/pegasus-xsum\",\n",
        "    \"google/pegasus-multi_news\",\n",
        "    # \"google/bigbird-pegasus-large-arxiv\",\n",
        "    \"google/pegasus-cnn_dailymail\"\n",
        "]\n",
        "\n",
        "# Create summarizers for each model\n",
        "summarizers = {model_name: pipeline(\"summarization\", model=model_name, device=-1) for model_name in model_names}"
      ],
      "metadata": {
        "id": "BsTnuUCZUGPJ"
      },
      "execution_count": null,
      "outputs": []
    },
    {
      "cell_type": "code",
      "source": [
        "def summarize_text(summarizer, text, max_input_length=1024, min_summary_length_ratio=0.1, max_summary_length_ratio=0.3):\n",
        "    \"\"\"\n",
        "    This function takes a text input, truncates it to a specified length, dynamically calculates summary\n",
        "    lengths based on input length, and then uses a summarizer model to generate a summary within the\n",
        "    calculated length limits.\n",
        "\n",
        "    :param summarizer: The `summarizer` parameter in the `summarize_text` function is expected to be a\n",
        "    function or model that can generate a summary of a given input text. This function/model should take\n",
        "    the input text, along with optional parameters like `max_length` and `min_length`, and return\n",
        "    :param text: The `summarize_text` function takes a `summarizer` function, `text` to be summarized,\n",
        "    and optional parameters for input length, minimum summary length ratio, and maximum summary length\n",
        "    ratio\n",
        "    :param max_input_length: The `max_input_length` parameter in the `summarize_text` function specifies\n",
        "    the maximum number of characters allowed in the input text that will be passed to the summarizer for\n",
        "    summarization. If the input text exceeds this length, it will be truncated to fit within this limit\n",
        "    before being summarized, defaults to 1024 (optional)\n",
        "    :param min_summary_length_ratio: The `min_summary_length_ratio` parameter in the `summarize_text`\n",
        "    function represents the minimum ratio of the input text length that the summary should aim to be. It\n",
        "    dynamically calculates the minimum length of the summary based on this ratio. The function ensures\n",
        "    that the summary length is at least 20\n",
        "    :param max_summary_length_ratio: The `max_summary_length_ratio` parameter in the `summarize_text`\n",
        "    function determines the maximum length of the summary relative to the length of the input text. It\n",
        "    is used to dynamically calculate the maximum length of the summary based on a ratio of the input\n",
        "    text length. The function ensures that the\n",
        "    :return: The function `summarize_text` returns the summarized text based on the input text using the\n",
        "    provided summarizer model. If there is no content to summarize (empty text), it returns '[No content\n",
        "    to summarize]'. If there is an error during the summarization process, it returns '[Error during\n",
        "    summarization]'. Otherwise, it returns the generated summary of the input text within the specified\n",
        "    length constraints based on the provided summarizer model.\n",
        "    \"\"\"\n",
        "    if not text or text.strip() == '':\n",
        "        return '[No content to summarize]'\n",
        "\n",
        "    # Truncate to model's max input length\n",
        "    input_text = text.strip()[:max_input_length]\n",
        "    input_len = len(input_text.split())  # count words\n",
        "\n",
        "    # Dynamically calculate summary lengths\n",
        "    min_length = max(20, int(input_len * min_summary_length_ratio))  # at least 20 words\n",
        "    max_length = max(min_length + 10, int(input_len * max_summary_length_ratio))  # ensure max > min\n",
        "\n",
        "    # Clip to model max length limits\n",
        "    max_length = min(max_length, 200)  # you can adjust cap\n",
        "    min_length = min(min_length, max_length - 10) if max_length > 10 else min_length\n",
        "\n",
        "    try:\n",
        "        summary = summarizer(input_text, max_length=max_length, min_length=min_length, do_sample=False)[0]['summary_text']\n",
        "    except Exception as e:\n",
        "        print(f\"⚠️ Error summarizing: {e}\")\n",
        "        summary = '[Error during summarization]'\n",
        "\n",
        "    return summary\n",
        "\n",
        "summarized_articles = []\n",
        "\n",
        "for idx, article in enumerate(tqdm(preprocessed_articles, desc=\"Summarizing articles\")):\n",
        "    content = article.get('content', '') or ''\n",
        "    title = article.get('title', '') or ''\n",
        "    description = article.get('description', '') or ''\n",
        "\n",
        "    input_text = content.strip()\n",
        "    if not input_text:\n",
        "        input_text = f\"{title}. {description}\".strip()\n",
        "\n",
        "    if len(input_text) == 0:\n",
        "        print(f\"⚠️ Article {idx} has no content/title/description.\")\n",
        "\n",
        "    summarized_article = article.copy()  # copy original article\n",
        "\n",
        "    # Summarize with each model\n",
        "    for model_name, summarizer in summarizers.items():\n",
        "        print(f\"🔍 Summarizing article {idx} with {model_name}\")\n",
        "        summary = summarize_text(summarizer, input_text)\n",
        "        summarized_article[f\"summary_{model_name}\"] = summary\n",
        "\n",
        "    summarized_articles.append(summarized_article)"
      ],
      "metadata": {
        "colab": {
          "base_uri": "https://localhost:8080/"
        },
        "id": "F4E_PT9R-voK",
        "outputId": "fed74a4a-0852-4e1e-fc48-20f36532bff1"
      },
      "execution_count": 11,
      "outputs": [
        {
          "output_type": "stream",
          "name": "stderr",
          "text": [
            "\rSummarizing articles:   0%|          | 0/83 [00:00<?, ?it/s]"
          ]
        },
        {
          "output_type": "stream",
          "name": "stdout",
          "text": [
            "🔍 Summarizing article 0 with facebook/bart-large-cnn\n",
            "🔍 Summarizing article 0 with google/pegasus-xsum\n",
            "🔍 Summarizing article 0 with google/pegasus-multi_news\n",
            "🔍 Summarizing article 0 with google/pegasus-cnn_dailymail\n"
          ]
        },
        {
          "output_type": "stream",
          "name": "stderr",
          "text": [
            "\rSummarizing articles:   1%|          | 1/83 [01:36<2:11:20, 96.10s/it]"
          ]
        },
        {
          "output_type": "stream",
          "name": "stdout",
          "text": [
            "🔍 Summarizing article 1 with facebook/bart-large-cnn\n",
            "🔍 Summarizing article 1 with google/pegasus-xsum\n",
            "🔍 Summarizing article 1 with google/pegasus-multi_news\n",
            "🔍 Summarizing article 1 with google/pegasus-cnn_dailymail\n"
          ]
        },
        {
          "output_type": "stream",
          "name": "stderr",
          "text": [
            "\rSummarizing articles:   2%|▏         | 2/83 [03:11<2:08:48, 95.41s/it]"
          ]
        },
        {
          "output_type": "stream",
          "name": "stdout",
          "text": [
            "🔍 Summarizing article 2 with facebook/bart-large-cnn\n",
            "🔍 Summarizing article 2 with google/pegasus-xsum\n",
            "🔍 Summarizing article 2 with google/pegasus-multi_news\n",
            "🔍 Summarizing article 2 with google/pegasus-cnn_dailymail\n"
          ]
        },
        {
          "output_type": "stream",
          "name": "stderr",
          "text": [
            "\rSummarizing articles:   4%|▎         | 3/83 [04:21<1:52:15, 84.19s/it]"
          ]
        },
        {
          "output_type": "stream",
          "name": "stdout",
          "text": [
            "🔍 Summarizing article 3 with facebook/bart-large-cnn\n",
            "🔍 Summarizing article 3 with google/pegasus-xsum\n",
            "🔍 Summarizing article 3 with google/pegasus-multi_news\n",
            "🔍 Summarizing article 3 with google/pegasus-cnn_dailymail\n"
          ]
        },
        {
          "output_type": "stream",
          "name": "stderr",
          "text": [
            "\rSummarizing articles:   5%|▍         | 4/83 [05:32<1:43:45, 78.80s/it]"
          ]
        },
        {
          "output_type": "stream",
          "name": "stdout",
          "text": [
            "🔍 Summarizing article 4 with facebook/bart-large-cnn\n",
            "🔍 Summarizing article 4 with google/pegasus-xsum\n",
            "🔍 Summarizing article 4 with google/pegasus-multi_news\n",
            "🔍 Summarizing article 4 with google/pegasus-cnn_dailymail\n"
          ]
        },
        {
          "output_type": "stream",
          "name": "stderr",
          "text": [
            "\rSummarizing articles:   6%|▌         | 5/83 [06:54<1:44:01, 80.02s/it]"
          ]
        },
        {
          "output_type": "stream",
          "name": "stdout",
          "text": [
            "🔍 Summarizing article 5 with facebook/bart-large-cnn\n",
            "🔍 Summarizing article 5 with google/pegasus-xsum\n",
            "🔍 Summarizing article 5 with google/pegasus-multi_news\n",
            "🔍 Summarizing article 5 with google/pegasus-cnn_dailymail\n"
          ]
        },
        {
          "output_type": "stream",
          "name": "stderr",
          "text": [
            "\rSummarizing articles:   7%|▋         | 6/83 [08:15<1:42:54, 80.19s/it]"
          ]
        },
        {
          "output_type": "stream",
          "name": "stdout",
          "text": [
            "🔍 Summarizing article 6 with facebook/bart-large-cnn\n",
            "🔍 Summarizing article 6 with google/pegasus-xsum\n",
            "🔍 Summarizing article 6 with google/pegasus-multi_news\n",
            "🔍 Summarizing article 6 with google/pegasus-cnn_dailymail\n"
          ]
        },
        {
          "output_type": "stream",
          "name": "stderr",
          "text": [
            "\rSummarizing articles:   8%|▊         | 7/83 [09:29<1:39:12, 78.32s/it]"
          ]
        },
        {
          "output_type": "stream",
          "name": "stdout",
          "text": [
            "🔍 Summarizing article 7 with facebook/bart-large-cnn\n",
            "🔍 Summarizing article 7 with google/pegasus-xsum\n",
            "🔍 Summarizing article 7 with google/pegasus-multi_news\n",
            "🔍 Summarizing article 7 with google/pegasus-cnn_dailymail\n"
          ]
        },
        {
          "output_type": "stream",
          "name": "stderr",
          "text": [
            "\rSummarizing articles:  10%|▉         | 8/83 [10:51<1:39:30, 79.61s/it]"
          ]
        },
        {
          "output_type": "stream",
          "name": "stdout",
          "text": [
            "🔍 Summarizing article 8 with facebook/bart-large-cnn\n",
            "🔍 Summarizing article 8 with google/pegasus-xsum\n",
            "🔍 Summarizing article 8 with google/pegasus-multi_news\n",
            "🔍 Summarizing article 8 with google/pegasus-cnn_dailymail\n"
          ]
        },
        {
          "output_type": "stream",
          "name": "stderr",
          "text": [
            "\rSummarizing articles:  11%|█         | 9/83 [12:04<1:35:32, 77.47s/it]"
          ]
        },
        {
          "output_type": "stream",
          "name": "stdout",
          "text": [
            "🔍 Summarizing article 9 with facebook/bart-large-cnn\n",
            "🔍 Summarizing article 9 with google/pegasus-xsum\n",
            "🔍 Summarizing article 9 with google/pegasus-multi_news\n",
            "🔍 Summarizing article 9 with google/pegasus-cnn_dailymail\n"
          ]
        },
        {
          "output_type": "stream",
          "name": "stderr",
          "text": [
            "\rSummarizing articles:  12%|█▏        | 10/83 [13:19<1:33:06, 76.53s/it]"
          ]
        },
        {
          "output_type": "stream",
          "name": "stdout",
          "text": [
            "🔍 Summarizing article 10 with facebook/bart-large-cnn\n",
            "🔍 Summarizing article 10 with google/pegasus-xsum\n",
            "🔍 Summarizing article 10 with google/pegasus-multi_news\n",
            "🔍 Summarizing article 10 with google/pegasus-cnn_dailymail\n"
          ]
        },
        {
          "output_type": "stream",
          "name": "stderr",
          "text": [
            "\rSummarizing articles:  13%|█▎        | 11/83 [14:31<1:30:21, 75.29s/it]"
          ]
        },
        {
          "output_type": "stream",
          "name": "stdout",
          "text": [
            "🔍 Summarizing article 11 with facebook/bart-large-cnn\n",
            "🔍 Summarizing article 11 with google/pegasus-xsum\n",
            "🔍 Summarizing article 11 with google/pegasus-multi_news\n",
            "🔍 Summarizing article 11 with google/pegasus-cnn_dailymail\n"
          ]
        },
        {
          "output_type": "stream",
          "name": "stderr",
          "text": [
            "\rSummarizing articles:  14%|█▍        | 12/83 [15:52<1:31:12, 77.07s/it]"
          ]
        },
        {
          "output_type": "stream",
          "name": "stdout",
          "text": [
            "🔍 Summarizing article 12 with facebook/bart-large-cnn\n",
            "🔍 Summarizing article 12 with google/pegasus-xsum\n",
            "🔍 Summarizing article 12 with google/pegasus-multi_news\n",
            "🔍 Summarizing article 12 with google/pegasus-cnn_dailymail\n"
          ]
        },
        {
          "output_type": "stream",
          "name": "stderr",
          "text": [
            "\rSummarizing articles:  16%|█▌        | 13/83 [17:14<1:31:33, 78.48s/it]"
          ]
        },
        {
          "output_type": "stream",
          "name": "stdout",
          "text": [
            "🔍 Summarizing article 13 with facebook/bart-large-cnn\n",
            "🔍 Summarizing article 13 with google/pegasus-xsum\n",
            "🔍 Summarizing article 13 with google/pegasus-multi_news\n",
            "🔍 Summarizing article 13 with google/pegasus-cnn_dailymail\n"
          ]
        },
        {
          "output_type": "stream",
          "name": "stderr",
          "text": [
            "\rSummarizing articles:  17%|█▋        | 14/83 [18:49<1:35:58, 83.45s/it]"
          ]
        },
        {
          "output_type": "stream",
          "name": "stdout",
          "text": [
            "🔍 Summarizing article 14 with facebook/bart-large-cnn\n",
            "🔍 Summarizing article 14 with google/pegasus-xsum\n",
            "🔍 Summarizing article 14 with google/pegasus-multi_news\n",
            "🔍 Summarizing article 14 with google/pegasus-cnn_dailymail\n"
          ]
        },
        {
          "output_type": "stream",
          "name": "stderr",
          "text": [
            "\rSummarizing articles:  18%|█▊        | 15/83 [20:07<1:32:43, 81.82s/it]"
          ]
        },
        {
          "output_type": "stream",
          "name": "stdout",
          "text": [
            "🔍 Summarizing article 15 with facebook/bart-large-cnn\n",
            "🔍 Summarizing article 15 with google/pegasus-xsum\n",
            "🔍 Summarizing article 15 with google/pegasus-multi_news\n",
            "🔍 Summarizing article 15 with google/pegasus-cnn_dailymail\n"
          ]
        },
        {
          "output_type": "stream",
          "name": "stderr",
          "text": [
            "\rSummarizing articles:  19%|█▉        | 16/83 [21:23<1:29:25, 80.08s/it]"
          ]
        },
        {
          "output_type": "stream",
          "name": "stdout",
          "text": [
            "🔍 Summarizing article 16 with facebook/bart-large-cnn\n",
            "🔍 Summarizing article 16 with google/pegasus-xsum\n",
            "🔍 Summarizing article 16 with google/pegasus-multi_news\n",
            "🔍 Summarizing article 16 with google/pegasus-cnn_dailymail\n"
          ]
        },
        {
          "output_type": "stream",
          "name": "stderr",
          "text": [
            "\rSummarizing articles:  20%|██        | 17/83 [22:42<1:27:51, 79.88s/it]"
          ]
        },
        {
          "output_type": "stream",
          "name": "stdout",
          "text": [
            "🔍 Summarizing article 17 with facebook/bart-large-cnn\n",
            "🔍 Summarizing article 17 with google/pegasus-xsum\n",
            "🔍 Summarizing article 17 with google/pegasus-multi_news\n",
            "🔍 Summarizing article 17 with google/pegasus-cnn_dailymail\n"
          ]
        },
        {
          "output_type": "stream",
          "name": "stderr",
          "text": [
            "\rSummarizing articles:  22%|██▏       | 18/83 [24:01<1:26:07, 79.51s/it]"
          ]
        },
        {
          "output_type": "stream",
          "name": "stdout",
          "text": [
            "🔍 Summarizing article 18 with facebook/bart-large-cnn\n",
            "🔍 Summarizing article 18 with google/pegasus-xsum\n",
            "🔍 Summarizing article 18 with google/pegasus-multi_news\n",
            "🔍 Summarizing article 18 with google/pegasus-cnn_dailymail\n"
          ]
        },
        {
          "output_type": "stream",
          "name": "stderr",
          "text": [
            "\rSummarizing articles:  23%|██▎       | 19/83 [25:25<1:26:08, 80.76s/it]"
          ]
        },
        {
          "output_type": "stream",
          "name": "stdout",
          "text": [
            "🔍 Summarizing article 19 with facebook/bart-large-cnn\n",
            "🔍 Summarizing article 19 with google/pegasus-xsum\n",
            "🔍 Summarizing article 19 with google/pegasus-multi_news\n",
            "🔍 Summarizing article 19 with google/pegasus-cnn_dailymail\n"
          ]
        },
        {
          "output_type": "stream",
          "name": "stderr",
          "text": [
            "\rSummarizing articles:  24%|██▍       | 20/83 [26:55<1:27:44, 83.56s/it]"
          ]
        },
        {
          "output_type": "stream",
          "name": "stdout",
          "text": [
            "🔍 Summarizing article 20 with facebook/bart-large-cnn\n",
            "🔍 Summarizing article 20 with google/pegasus-xsum\n",
            "🔍 Summarizing article 20 with google/pegasus-multi_news\n",
            "🔍 Summarizing article 20 with google/pegasus-cnn_dailymail\n"
          ]
        },
        {
          "output_type": "stream",
          "name": "stderr",
          "text": [
            "\rSummarizing articles:  25%|██▌       | 21/83 [28:12<1:24:18, 81.58s/it]"
          ]
        },
        {
          "output_type": "stream",
          "name": "stdout",
          "text": [
            "🔍 Summarizing article 21 with facebook/bart-large-cnn\n",
            "🔍 Summarizing article 21 with google/pegasus-xsum\n",
            "🔍 Summarizing article 21 with google/pegasus-multi_news\n",
            "🔍 Summarizing article 21 with google/pegasus-cnn_dailymail\n"
          ]
        },
        {
          "output_type": "stream",
          "name": "stderr",
          "text": [
            "\rSummarizing articles:  27%|██▋       | 22/83 [29:32<1:22:29, 81.14s/it]"
          ]
        },
        {
          "output_type": "stream",
          "name": "stdout",
          "text": [
            "🔍 Summarizing article 22 with facebook/bart-large-cnn\n",
            "🔍 Summarizing article 22 with google/pegasus-xsum\n",
            "🔍 Summarizing article 22 with google/pegasus-multi_news\n",
            "🔍 Summarizing article 22 with google/pegasus-cnn_dailymail\n"
          ]
        },
        {
          "output_type": "stream",
          "name": "stderr",
          "text": [
            "\rSummarizing articles:  28%|██▊       | 23/83 [31:01<1:23:35, 83.59s/it]"
          ]
        },
        {
          "output_type": "stream",
          "name": "stdout",
          "text": [
            "🔍 Summarizing article 23 with facebook/bart-large-cnn\n",
            "🔍 Summarizing article 23 with google/pegasus-xsum\n",
            "🔍 Summarizing article 23 with google/pegasus-multi_news\n",
            "🔍 Summarizing article 23 with google/pegasus-cnn_dailymail\n"
          ]
        },
        {
          "output_type": "stream",
          "name": "stderr",
          "text": [
            "\rSummarizing articles:  29%|██▉       | 24/83 [32:24<1:21:50, 83.22s/it]"
          ]
        },
        {
          "output_type": "stream",
          "name": "stdout",
          "text": [
            "🔍 Summarizing article 24 with facebook/bart-large-cnn\n",
            "🔍 Summarizing article 24 with google/pegasus-xsum\n",
            "🔍 Summarizing article 24 with google/pegasus-multi_news\n",
            "🔍 Summarizing article 24 with google/pegasus-cnn_dailymail\n"
          ]
        },
        {
          "output_type": "stream",
          "name": "stderr",
          "text": [
            "\rSummarizing articles:  30%|███       | 25/83 [33:51<1:21:32, 84.36s/it]"
          ]
        },
        {
          "output_type": "stream",
          "name": "stdout",
          "text": [
            "🔍 Summarizing article 25 with facebook/bart-large-cnn\n",
            "🔍 Summarizing article 25 with google/pegasus-xsum\n",
            "🔍 Summarizing article 25 with google/pegasus-multi_news\n",
            "🔍 Summarizing article 25 with google/pegasus-cnn_dailymail\n"
          ]
        },
        {
          "output_type": "stream",
          "name": "stderr",
          "text": [
            "\rSummarizing articles:  31%|███▏      | 26/83 [35:10<1:18:42, 82.85s/it]"
          ]
        },
        {
          "output_type": "stream",
          "name": "stdout",
          "text": [
            "🔍 Summarizing article 26 with facebook/bart-large-cnn\n",
            "🔍 Summarizing article 26 with google/pegasus-xsum\n",
            "🔍 Summarizing article 26 with google/pegasus-multi_news\n",
            "🔍 Summarizing article 26 with google/pegasus-cnn_dailymail\n"
          ]
        },
        {
          "output_type": "stream",
          "name": "stderr",
          "text": [
            "\rSummarizing articles:  33%|███▎      | 27/83 [36:44<1:20:29, 86.25s/it]"
          ]
        },
        {
          "output_type": "stream",
          "name": "stdout",
          "text": [
            "🔍 Summarizing article 27 with facebook/bart-large-cnn\n",
            "🔍 Summarizing article 27 with google/pegasus-xsum\n",
            "🔍 Summarizing article 27 with google/pegasus-multi_news\n",
            "🔍 Summarizing article 27 with google/pegasus-cnn_dailymail\n"
          ]
        },
        {
          "output_type": "stream",
          "name": "stderr",
          "text": [
            "\rSummarizing articles:  34%|███▎      | 28/83 [37:59<1:15:55, 82.83s/it]"
          ]
        },
        {
          "output_type": "stream",
          "name": "stdout",
          "text": [
            "🔍 Summarizing article 28 with facebook/bart-large-cnn\n",
            "🔍 Summarizing article 28 with google/pegasus-xsum\n",
            "🔍 Summarizing article 28 with google/pegasus-multi_news\n",
            "🔍 Summarizing article 28 with google/pegasus-cnn_dailymail\n"
          ]
        },
        {
          "output_type": "stream",
          "name": "stderr",
          "text": [
            "\rSummarizing articles:  35%|███▍      | 29/83 [39:12<1:11:57, 79.96s/it]"
          ]
        },
        {
          "output_type": "stream",
          "name": "stdout",
          "text": [
            "🔍 Summarizing article 29 with facebook/bart-large-cnn\n",
            "🔍 Summarizing article 29 with google/pegasus-xsum\n",
            "🔍 Summarizing article 29 with google/pegasus-multi_news\n",
            "🔍 Summarizing article 29 with google/pegasus-cnn_dailymail\n"
          ]
        },
        {
          "output_type": "stream",
          "name": "stderr",
          "text": [
            "\rSummarizing articles:  36%|███▌      | 30/83 [40:42<1:13:07, 82.77s/it]"
          ]
        },
        {
          "output_type": "stream",
          "name": "stdout",
          "text": [
            "🔍 Summarizing article 30 with facebook/bart-large-cnn\n",
            "🔍 Summarizing article 30 with google/pegasus-xsum\n",
            "🔍 Summarizing article 30 with google/pegasus-multi_news\n",
            "🔍 Summarizing article 30 with google/pegasus-cnn_dailymail\n"
          ]
        },
        {
          "output_type": "stream",
          "name": "stderr",
          "text": [
            "\rSummarizing articles:  37%|███▋      | 31/83 [42:03<1:11:30, 82.51s/it]"
          ]
        },
        {
          "output_type": "stream",
          "name": "stdout",
          "text": [
            "🔍 Summarizing article 31 with facebook/bart-large-cnn\n",
            "🔍 Summarizing article 31 with google/pegasus-xsum\n",
            "🔍 Summarizing article 31 with google/pegasus-multi_news\n",
            "🔍 Summarizing article 31 with google/pegasus-cnn_dailymail\n"
          ]
        },
        {
          "output_type": "stream",
          "name": "stderr",
          "text": [
            "\rSummarizing articles:  39%|███▊      | 32/83 [42:50<1:01:02, 71.81s/it]"
          ]
        },
        {
          "output_type": "stream",
          "name": "stdout",
          "text": [
            "🔍 Summarizing article 32 with facebook/bart-large-cnn\n",
            "🔍 Summarizing article 32 with google/pegasus-xsum\n",
            "🔍 Summarizing article 32 with google/pegasus-multi_news\n",
            "🔍 Summarizing article 32 with google/pegasus-cnn_dailymail\n"
          ]
        },
        {
          "output_type": "stream",
          "name": "stderr",
          "text": [
            "\rSummarizing articles:  40%|███▉      | 33/83 [44:10<1:01:45, 74.12s/it]"
          ]
        },
        {
          "output_type": "stream",
          "name": "stdout",
          "text": [
            "🔍 Summarizing article 33 with facebook/bart-large-cnn\n",
            "🔍 Summarizing article 33 with google/pegasus-xsum\n",
            "🔍 Summarizing article 33 with google/pegasus-multi_news\n",
            "🔍 Summarizing article 33 with google/pegasus-cnn_dailymail\n"
          ]
        },
        {
          "output_type": "stream",
          "name": "stderr",
          "text": [
            "\rSummarizing articles:  41%|████      | 34/83 [45:22<59:58, 73.44s/it]  "
          ]
        },
        {
          "output_type": "stream",
          "name": "stdout",
          "text": [
            "🔍 Summarizing article 34 with facebook/bart-large-cnn\n",
            "🔍 Summarizing article 34 with google/pegasus-xsum\n",
            "🔍 Summarizing article 34 with google/pegasus-multi_news\n",
            "🔍 Summarizing article 34 with google/pegasus-cnn_dailymail\n"
          ]
        },
        {
          "output_type": "stream",
          "name": "stderr",
          "text": [
            "\rSummarizing articles:  42%|████▏     | 35/83 [46:44<1:00:53, 76.12s/it]"
          ]
        },
        {
          "output_type": "stream",
          "name": "stdout",
          "text": [
            "🔍 Summarizing article 35 with facebook/bart-large-cnn\n",
            "🔍 Summarizing article 35 with google/pegasus-xsum\n",
            "🔍 Summarizing article 35 with google/pegasus-multi_news\n",
            "🔍 Summarizing article 35 with google/pegasus-cnn_dailymail\n"
          ]
        },
        {
          "output_type": "stream",
          "name": "stderr",
          "text": [
            "\rSummarizing articles:  43%|████▎     | 36/83 [47:59<59:20, 75.76s/it]  "
          ]
        },
        {
          "output_type": "stream",
          "name": "stdout",
          "text": [
            "🔍 Summarizing article 36 with facebook/bart-large-cnn\n",
            "🔍 Summarizing article 36 with google/pegasus-xsum\n",
            "🔍 Summarizing article 36 with google/pegasus-multi_news\n",
            "🔍 Summarizing article 36 with google/pegasus-cnn_dailymail\n"
          ]
        },
        {
          "output_type": "stream",
          "name": "stderr",
          "text": [
            "\rSummarizing articles:  45%|████▍     | 37/83 [48:46<51:22, 67.02s/it]"
          ]
        },
        {
          "output_type": "stream",
          "name": "stdout",
          "text": [
            "🔍 Summarizing article 37 with facebook/bart-large-cnn\n",
            "🔍 Summarizing article 37 with google/pegasus-xsum\n",
            "🔍 Summarizing article 37 with google/pegasus-multi_news\n",
            "🔍 Summarizing article 37 with google/pegasus-cnn_dailymail\n"
          ]
        },
        {
          "output_type": "stream",
          "name": "stderr",
          "text": [
            "\rSummarizing articles:  46%|████▌     | 38/83 [50:06<53:11, 70.91s/it]"
          ]
        },
        {
          "output_type": "stream",
          "name": "stdout",
          "text": [
            "🔍 Summarizing article 38 with facebook/bart-large-cnn\n",
            "🔍 Summarizing article 38 with google/pegasus-xsum\n",
            "🔍 Summarizing article 38 with google/pegasus-multi_news\n",
            "🔍 Summarizing article 38 with google/pegasus-cnn_dailymail\n"
          ]
        },
        {
          "output_type": "stream",
          "name": "stderr",
          "text": [
            "\rSummarizing articles:  47%|████▋     | 39/83 [51:16<51:48, 70.65s/it]"
          ]
        },
        {
          "output_type": "stream",
          "name": "stdout",
          "text": [
            "🔍 Summarizing article 39 with facebook/bart-large-cnn\n",
            "🔍 Summarizing article 39 with google/pegasus-xsum\n",
            "🔍 Summarizing article 39 with google/pegasus-multi_news\n",
            "🔍 Summarizing article 39 with google/pegasus-cnn_dailymail\n"
          ]
        },
        {
          "output_type": "stream",
          "name": "stderr",
          "text": [
            "\rSummarizing articles:  48%|████▊     | 40/83 [52:33<52:04, 72.66s/it]"
          ]
        },
        {
          "output_type": "stream",
          "name": "stdout",
          "text": [
            "🔍 Summarizing article 40 with facebook/bart-large-cnn\n",
            "🔍 Summarizing article 40 with google/pegasus-xsum\n",
            "🔍 Summarizing article 40 with google/pegasus-multi_news\n",
            "🔍 Summarizing article 40 with google/pegasus-cnn_dailymail\n"
          ]
        },
        {
          "output_type": "stream",
          "name": "stderr",
          "text": [
            "\rSummarizing articles:  49%|████▉     | 41/83 [53:54<52:32, 75.07s/it]"
          ]
        },
        {
          "output_type": "stream",
          "name": "stdout",
          "text": [
            "🔍 Summarizing article 41 with facebook/bart-large-cnn\n",
            "🔍 Summarizing article 41 with google/pegasus-xsum\n",
            "🔍 Summarizing article 41 with google/pegasus-multi_news\n",
            "🔍 Summarizing article 41 with google/pegasus-cnn_dailymail\n"
          ]
        },
        {
          "output_type": "stream",
          "name": "stderr",
          "text": [
            "\rSummarizing articles:  51%|█████     | 42/83 [55:09<51:25, 75.26s/it]"
          ]
        },
        {
          "output_type": "stream",
          "name": "stdout",
          "text": [
            "🔍 Summarizing article 42 with facebook/bart-large-cnn\n",
            "🔍 Summarizing article 42 with google/pegasus-xsum\n",
            "🔍 Summarizing article 42 with google/pegasus-multi_news\n",
            "🔍 Summarizing article 42 with google/pegasus-cnn_dailymail\n"
          ]
        },
        {
          "output_type": "stream",
          "name": "stderr",
          "text": [
            "\rSummarizing articles:  52%|█████▏    | 43/83 [56:30<51:15, 76.90s/it]"
          ]
        },
        {
          "output_type": "stream",
          "name": "stdout",
          "text": [
            "🔍 Summarizing article 43 with facebook/bart-large-cnn\n",
            "🔍 Summarizing article 43 with google/pegasus-xsum\n",
            "🔍 Summarizing article 43 with google/pegasus-multi_news\n",
            "🔍 Summarizing article 43 with google/pegasus-cnn_dailymail\n"
          ]
        },
        {
          "output_type": "stream",
          "name": "stderr",
          "text": [
            "\rSummarizing articles:  53%|█████▎    | 44/83 [57:16<44:01, 67.73s/it]"
          ]
        },
        {
          "output_type": "stream",
          "name": "stdout",
          "text": [
            "🔍 Summarizing article 44 with facebook/bart-large-cnn\n",
            "🔍 Summarizing article 44 with google/pegasus-xsum\n",
            "🔍 Summarizing article 44 with google/pegasus-multi_news\n",
            "🔍 Summarizing article 44 with google/pegasus-cnn_dailymail\n"
          ]
        },
        {
          "output_type": "stream",
          "name": "stderr",
          "text": [
            "\rSummarizing articles:  54%|█████▍    | 45/83 [58:33<44:34, 70.39s/it]"
          ]
        },
        {
          "output_type": "stream",
          "name": "stdout",
          "text": [
            "🔍 Summarizing article 45 with facebook/bart-large-cnn\n",
            "🔍 Summarizing article 45 with google/pegasus-xsum\n",
            "🔍 Summarizing article 45 with google/pegasus-multi_news\n",
            "🔍 Summarizing article 45 with google/pegasus-cnn_dailymail\n"
          ]
        },
        {
          "output_type": "stream",
          "name": "stderr",
          "text": [
            "\rSummarizing articles:  55%|█████▌    | 46/83 [59:53<45:13, 73.33s/it]"
          ]
        },
        {
          "output_type": "stream",
          "name": "stdout",
          "text": [
            "🔍 Summarizing article 46 with facebook/bart-large-cnn\n",
            "🔍 Summarizing article 46 with google/pegasus-xsum\n",
            "🔍 Summarizing article 46 with google/pegasus-multi_news\n",
            "🔍 Summarizing article 46 with google/pegasus-cnn_dailymail\n"
          ]
        },
        {
          "output_type": "stream",
          "name": "stderr",
          "text": [
            "\rSummarizing articles:  57%|█████▋    | 47/83 [1:01:13<45:06, 75.18s/it]"
          ]
        },
        {
          "output_type": "stream",
          "name": "stdout",
          "text": [
            "🔍 Summarizing article 47 with facebook/bart-large-cnn\n"
          ]
        },
        {
          "output_type": "stream",
          "name": "stderr",
          "text": [
            "Your max_length is set to 30, but your input_length is only 27. Since this is a summarization task, where outputs shorter than the input are typically wanted, you might consider decreasing max_length manually, e.g. summarizer('...', max_length=13)\n"
          ]
        },
        {
          "output_type": "stream",
          "name": "stdout",
          "text": [
            "🔍 Summarizing article 47 with google/pegasus-xsum\n"
          ]
        },
        {
          "output_type": "stream",
          "name": "stderr",
          "text": [
            "Your max_length is set to 30, but your input_length is only 27. Since this is a summarization task, where outputs shorter than the input are typically wanted, you might consider decreasing max_length manually, e.g. summarizer('...', max_length=13)\n"
          ]
        },
        {
          "output_type": "stream",
          "name": "stdout",
          "text": [
            "🔍 Summarizing article 47 with google/pegasus-multi_news\n"
          ]
        },
        {
          "output_type": "stream",
          "name": "stderr",
          "text": [
            "Your max_length is set to 30, but your input_length is only 27. Since this is a summarization task, where outputs shorter than the input are typically wanted, you might consider decreasing max_length manually, e.g. summarizer('...', max_length=13)\n"
          ]
        },
        {
          "output_type": "stream",
          "name": "stdout",
          "text": [
            "🔍 Summarizing article 47 with google/pegasus-cnn_dailymail\n"
          ]
        },
        {
          "output_type": "stream",
          "name": "stderr",
          "text": [
            "\rSummarizing articles:  58%|█████▊    | 48/83 [1:01:54<37:52, 64.92s/it]"
          ]
        },
        {
          "output_type": "stream",
          "name": "stdout",
          "text": [
            "🔍 Summarizing article 48 with facebook/bart-large-cnn\n",
            "🔍 Summarizing article 48 with google/pegasus-xsum\n",
            "🔍 Summarizing article 48 with google/pegasus-multi_news\n",
            "🔍 Summarizing article 48 with google/pegasus-cnn_dailymail\n"
          ]
        },
        {
          "output_type": "stream",
          "name": "stderr",
          "text": [
            "\rSummarizing articles:  59%|█████▉    | 49/83 [1:03:21<40:39, 71.74s/it]"
          ]
        },
        {
          "output_type": "stream",
          "name": "stdout",
          "text": [
            "🔍 Summarizing article 49 with facebook/bart-large-cnn\n",
            "🔍 Summarizing article 49 with google/pegasus-xsum\n",
            "🔍 Summarizing article 49 with google/pegasus-multi_news\n",
            "🔍 Summarizing article 49 with google/pegasus-cnn_dailymail\n"
          ]
        },
        {
          "output_type": "stream",
          "name": "stderr",
          "text": [
            "\rSummarizing articles:  60%|██████    | 50/83 [1:04:45<41:30, 75.46s/it]"
          ]
        },
        {
          "output_type": "stream",
          "name": "stdout",
          "text": [
            "🔍 Summarizing article 50 with facebook/bart-large-cnn\n",
            "🔍 Summarizing article 50 with google/pegasus-xsum\n",
            "🔍 Summarizing article 50 with google/pegasus-multi_news\n",
            "🔍 Summarizing article 50 with google/pegasus-cnn_dailymail\n"
          ]
        },
        {
          "output_type": "stream",
          "name": "stderr",
          "text": [
            "\rSummarizing articles:  61%|██████▏   | 51/83 [1:06:07<41:08, 77.14s/it]"
          ]
        },
        {
          "output_type": "stream",
          "name": "stdout",
          "text": [
            "🔍 Summarizing article 51 with facebook/bart-large-cnn\n",
            "🔍 Summarizing article 51 with google/pegasus-xsum\n",
            "🔍 Summarizing article 51 with google/pegasus-multi_news\n",
            "🔍 Summarizing article 51 with google/pegasus-cnn_dailymail\n"
          ]
        },
        {
          "output_type": "stream",
          "name": "stderr",
          "text": [
            "\rSummarizing articles:  63%|██████▎   | 52/83 [1:07:38<42:06, 81.50s/it]"
          ]
        },
        {
          "output_type": "stream",
          "name": "stdout",
          "text": [
            "🔍 Summarizing article 52 with facebook/bart-large-cnn\n",
            "🔍 Summarizing article 52 with google/pegasus-xsum\n",
            "🔍 Summarizing article 52 with google/pegasus-multi_news\n",
            "🔍 Summarizing article 52 with google/pegasus-cnn_dailymail\n"
          ]
        },
        {
          "output_type": "stream",
          "name": "stderr",
          "text": [
            "\rSummarizing articles:  64%|██████▍   | 53/83 [1:09:01<40:58, 81.95s/it]"
          ]
        },
        {
          "output_type": "stream",
          "name": "stdout",
          "text": [
            "🔍 Summarizing article 53 with facebook/bart-large-cnn\n",
            "🔍 Summarizing article 53 with google/pegasus-xsum\n",
            "🔍 Summarizing article 53 with google/pegasus-multi_news\n",
            "🔍 Summarizing article 53 with google/pegasus-cnn_dailymail\n"
          ]
        },
        {
          "output_type": "stream",
          "name": "stderr",
          "text": [
            "\rSummarizing articles:  65%|██████▌   | 54/83 [1:09:49<34:37, 71.64s/it]"
          ]
        },
        {
          "output_type": "stream",
          "name": "stdout",
          "text": [
            "🔍 Summarizing article 54 with facebook/bart-large-cnn\n",
            "🔍 Summarizing article 54 with google/pegasus-xsum\n",
            "🔍 Summarizing article 54 with google/pegasus-multi_news\n",
            "🔍 Summarizing article 54 with google/pegasus-cnn_dailymail\n"
          ]
        },
        {
          "output_type": "stream",
          "name": "stderr",
          "text": [
            "\rSummarizing articles:  66%|██████▋   | 55/83 [1:11:01<33:33, 71.90s/it]"
          ]
        },
        {
          "output_type": "stream",
          "name": "stdout",
          "text": [
            "🔍 Summarizing article 55 with facebook/bart-large-cnn\n",
            "🔍 Summarizing article 55 with google/pegasus-xsum\n",
            "🔍 Summarizing article 55 with google/pegasus-multi_news\n",
            "🔍 Summarizing article 55 with google/pegasus-cnn_dailymail\n"
          ]
        },
        {
          "output_type": "stream",
          "name": "stderr",
          "text": [
            "\rSummarizing articles:  67%|██████▋   | 56/83 [1:12:16<32:46, 72.82s/it]"
          ]
        },
        {
          "output_type": "stream",
          "name": "stdout",
          "text": [
            "🔍 Summarizing article 56 with facebook/bart-large-cnn\n",
            "🔍 Summarizing article 56 with google/pegasus-xsum\n",
            "🔍 Summarizing article 56 with google/pegasus-multi_news\n",
            "🔍 Summarizing article 56 with google/pegasus-cnn_dailymail\n"
          ]
        },
        {
          "output_type": "stream",
          "name": "stderr",
          "text": [
            "\rSummarizing articles:  69%|██████▊   | 57/83 [1:13:37<32:33, 75.14s/it]"
          ]
        },
        {
          "output_type": "stream",
          "name": "stdout",
          "text": [
            "🔍 Summarizing article 57 with facebook/bart-large-cnn\n",
            "🔍 Summarizing article 57 with google/pegasus-xsum\n",
            "🔍 Summarizing article 57 with google/pegasus-multi_news\n",
            "🔍 Summarizing article 57 with google/pegasus-cnn_dailymail\n"
          ]
        },
        {
          "output_type": "stream",
          "name": "stderr",
          "text": [
            "\rSummarizing articles:  70%|██████▉   | 58/83 [1:15:01<32:27, 77.88s/it]"
          ]
        },
        {
          "output_type": "stream",
          "name": "stdout",
          "text": [
            "🔍 Summarizing article 58 with facebook/bart-large-cnn\n",
            "🔍 Summarizing article 58 with google/pegasus-xsum\n",
            "🔍 Summarizing article 58 with google/pegasus-multi_news\n",
            "🔍 Summarizing article 58 with google/pegasus-cnn_dailymail\n"
          ]
        },
        {
          "output_type": "stream",
          "name": "stderr",
          "text": [
            "\rSummarizing articles:  71%|███████   | 59/83 [1:16:22<31:33, 78.90s/it]"
          ]
        },
        {
          "output_type": "stream",
          "name": "stdout",
          "text": [
            "🔍 Summarizing article 59 with facebook/bart-large-cnn\n",
            "🔍 Summarizing article 59 with google/pegasus-xsum\n",
            "🔍 Summarizing article 59 with google/pegasus-multi_news\n",
            "🔍 Summarizing article 59 with google/pegasus-cnn_dailymail\n"
          ]
        },
        {
          "output_type": "stream",
          "name": "stderr",
          "text": [
            "\rSummarizing articles:  72%|███████▏  | 60/83 [1:17:08<26:26, 68.99s/it]"
          ]
        },
        {
          "output_type": "stream",
          "name": "stdout",
          "text": [
            "🔍 Summarizing article 60 with facebook/bart-large-cnn\n",
            "🔍 Summarizing article 60 with google/pegasus-xsum\n",
            "🔍 Summarizing article 60 with google/pegasus-multi_news\n",
            "🔍 Summarizing article 60 with google/pegasus-cnn_dailymail\n"
          ]
        },
        {
          "output_type": "stream",
          "name": "stderr",
          "text": [
            "\rSummarizing articles:  73%|███████▎  | 61/83 [1:18:27<26:21, 71.87s/it]"
          ]
        },
        {
          "output_type": "stream",
          "name": "stdout",
          "text": [
            "🔍 Summarizing article 61 with facebook/bart-large-cnn\n",
            "🔍 Summarizing article 61 with google/pegasus-xsum\n",
            "🔍 Summarizing article 61 with google/pegasus-multi_news\n",
            "🔍 Summarizing article 61 with google/pegasus-cnn_dailymail\n"
          ]
        },
        {
          "output_type": "stream",
          "name": "stderr",
          "text": [
            "\rSummarizing articles:  75%|███████▍  | 62/83 [1:19:55<26:54, 76.87s/it]"
          ]
        },
        {
          "output_type": "stream",
          "name": "stdout",
          "text": [
            "🔍 Summarizing article 62 with facebook/bart-large-cnn\n",
            "🔍 Summarizing article 62 with google/pegasus-xsum\n",
            "🔍 Summarizing article 62 with google/pegasus-multi_news\n",
            "🔍 Summarizing article 62 with google/pegasus-cnn_dailymail\n"
          ]
        },
        {
          "output_type": "stream",
          "name": "stderr",
          "text": [
            "\rSummarizing articles:  76%|███████▌  | 63/83 [1:21:53<29:44, 89.22s/it]"
          ]
        },
        {
          "output_type": "stream",
          "name": "stdout",
          "text": [
            "🔍 Summarizing article 63 with facebook/bart-large-cnn\n",
            "🔍 Summarizing article 63 with google/pegasus-xsum\n",
            "🔍 Summarizing article 63 with google/pegasus-multi_news\n",
            "🔍 Summarizing article 63 with google/pegasus-cnn_dailymail\n"
          ]
        },
        {
          "output_type": "stream",
          "name": "stderr",
          "text": [
            "\rSummarizing articles:  77%|███████▋  | 64/83 [1:23:08<26:51, 84.80s/it]"
          ]
        },
        {
          "output_type": "stream",
          "name": "stdout",
          "text": [
            "🔍 Summarizing article 64 with facebook/bart-large-cnn\n",
            "🔍 Summarizing article 64 with google/pegasus-xsum\n",
            "🔍 Summarizing article 64 with google/pegasus-multi_news\n",
            "🔍 Summarizing article 64 with google/pegasus-cnn_dailymail\n"
          ]
        },
        {
          "output_type": "stream",
          "name": "stderr",
          "text": [
            "\rSummarizing articles:  78%|███████▊  | 65/83 [1:24:28<25:02, 83.46s/it]"
          ]
        },
        {
          "output_type": "stream",
          "name": "stdout",
          "text": [
            "🔍 Summarizing article 65 with facebook/bart-large-cnn\n",
            "🔍 Summarizing article 65 with google/pegasus-xsum\n",
            "🔍 Summarizing article 65 with google/pegasus-multi_news\n",
            "🔍 Summarizing article 65 with google/pegasus-cnn_dailymail\n"
          ]
        },
        {
          "output_type": "stream",
          "name": "stderr",
          "text": [
            "\rSummarizing articles:  80%|███████▉  | 66/83 [1:25:13<20:22, 71.90s/it]"
          ]
        },
        {
          "output_type": "stream",
          "name": "stdout",
          "text": [
            "🔍 Summarizing article 66 with facebook/bart-large-cnn\n",
            "🔍 Summarizing article 66 with google/pegasus-xsum\n",
            "🔍 Summarizing article 66 with google/pegasus-multi_news\n",
            "🔍 Summarizing article 66 with google/pegasus-cnn_dailymail\n"
          ]
        },
        {
          "output_type": "stream",
          "name": "stderr",
          "text": [
            "\rSummarizing articles:  81%|████████  | 67/83 [1:26:36<20:05, 75.32s/it]"
          ]
        },
        {
          "output_type": "stream",
          "name": "stdout",
          "text": [
            "🔍 Summarizing article 67 with facebook/bart-large-cnn\n",
            "🔍 Summarizing article 67 with google/pegasus-xsum\n",
            "🔍 Summarizing article 67 with google/pegasus-multi_news\n",
            "🔍 Summarizing article 67 with google/pegasus-cnn_dailymail\n"
          ]
        },
        {
          "output_type": "stream",
          "name": "stderr",
          "text": [
            "\rSummarizing articles:  82%|████████▏ | 68/83 [1:27:50<18:41, 74.75s/it]"
          ]
        },
        {
          "output_type": "stream",
          "name": "stdout",
          "text": [
            "🔍 Summarizing article 68 with facebook/bart-large-cnn\n",
            "🔍 Summarizing article 68 with google/pegasus-xsum\n",
            "🔍 Summarizing article 68 with google/pegasus-multi_news\n",
            "🔍 Summarizing article 68 with google/pegasus-cnn_dailymail\n"
          ]
        },
        {
          "output_type": "stream",
          "name": "stderr",
          "text": [
            "\rSummarizing articles:  83%|████████▎ | 69/83 [1:29:13<18:02, 77.29s/it]"
          ]
        },
        {
          "output_type": "stream",
          "name": "stdout",
          "text": [
            "🔍 Summarizing article 69 with facebook/bart-large-cnn\n",
            "🔍 Summarizing article 69 with google/pegasus-xsum\n",
            "🔍 Summarizing article 69 with google/pegasus-multi_news\n",
            "🔍 Summarizing article 69 with google/pegasus-cnn_dailymail\n"
          ]
        },
        {
          "output_type": "stream",
          "name": "stderr",
          "text": [
            "\rSummarizing articles:  84%|████████▍ | 70/83 [1:30:28<16:34, 76.47s/it]"
          ]
        },
        {
          "output_type": "stream",
          "name": "stdout",
          "text": [
            "🔍 Summarizing article 70 with facebook/bart-large-cnn\n",
            "🔍 Summarizing article 70 with google/pegasus-xsum\n",
            "🔍 Summarizing article 70 with google/pegasus-multi_news\n",
            "🔍 Summarizing article 70 with google/pegasus-cnn_dailymail\n"
          ]
        },
        {
          "output_type": "stream",
          "name": "stderr",
          "text": [
            "\rSummarizing articles:  86%|████████▌ | 71/83 [1:31:55<15:55, 79.60s/it]"
          ]
        },
        {
          "output_type": "stream",
          "name": "stdout",
          "text": [
            "🔍 Summarizing article 71 with facebook/bart-large-cnn\n",
            "🔍 Summarizing article 71 with google/pegasus-xsum\n",
            "🔍 Summarizing article 71 with google/pegasus-multi_news\n",
            "🔍 Summarizing article 71 with google/pegasus-cnn_dailymail\n"
          ]
        },
        {
          "output_type": "stream",
          "name": "stderr",
          "text": [
            "\rSummarizing articles:  87%|████████▋ | 72/83 [1:33:09<14:18, 78.01s/it]"
          ]
        },
        {
          "output_type": "stream",
          "name": "stdout",
          "text": [
            "🔍 Summarizing article 72 with facebook/bart-large-cnn\n",
            "🔍 Summarizing article 72 with google/pegasus-xsum\n",
            "🔍 Summarizing article 72 with google/pegasus-multi_news\n",
            "🔍 Summarizing article 72 with google/pegasus-cnn_dailymail\n"
          ]
        },
        {
          "output_type": "stream",
          "name": "stderr",
          "text": [
            "\rSummarizing articles:  88%|████████▊ | 73/83 [1:33:57<11:31, 69.19s/it]"
          ]
        },
        {
          "output_type": "stream",
          "name": "stdout",
          "text": [
            "🔍 Summarizing article 73 with facebook/bart-large-cnn\n",
            "🔍 Summarizing article 73 with google/pegasus-xsum\n",
            "🔍 Summarizing article 73 with google/pegasus-multi_news\n",
            "🔍 Summarizing article 73 with google/pegasus-cnn_dailymail\n"
          ]
        },
        {
          "output_type": "stream",
          "name": "stderr",
          "text": [
            "\rSummarizing articles:  89%|████████▉ | 74/83 [1:35:13<10:39, 71.07s/it]"
          ]
        },
        {
          "output_type": "stream",
          "name": "stdout",
          "text": [
            "🔍 Summarizing article 74 with facebook/bart-large-cnn\n",
            "🔍 Summarizing article 74 with google/pegasus-xsum\n",
            "🔍 Summarizing article 74 with google/pegasus-multi_news\n",
            "🔍 Summarizing article 74 with google/pegasus-cnn_dailymail\n"
          ]
        },
        {
          "output_type": "stream",
          "name": "stderr",
          "text": [
            "\rSummarizing articles:  90%|█████████ | 75/83 [1:36:28<09:38, 72.29s/it]"
          ]
        },
        {
          "output_type": "stream",
          "name": "stdout",
          "text": [
            "🔍 Summarizing article 75 with facebook/bart-large-cnn\n",
            "🔍 Summarizing article 75 with google/pegasus-xsum\n",
            "🔍 Summarizing article 75 with google/pegasus-multi_news\n",
            "🔍 Summarizing article 75 with google/pegasus-cnn_dailymail\n"
          ]
        },
        {
          "output_type": "stream",
          "name": "stderr",
          "text": [
            "\rSummarizing articles:  92%|█████████▏| 76/83 [1:37:44<08:33, 73.36s/it]"
          ]
        },
        {
          "output_type": "stream",
          "name": "stdout",
          "text": [
            "🔍 Summarizing article 76 with facebook/bart-large-cnn\n",
            "🔍 Summarizing article 76 with google/pegasus-xsum\n",
            "🔍 Summarizing article 76 with google/pegasus-multi_news\n",
            "🔍 Summarizing article 76 with google/pegasus-cnn_dailymail\n"
          ]
        },
        {
          "output_type": "stream",
          "name": "stderr",
          "text": [
            "\rSummarizing articles:  93%|█████████▎| 77/83 [1:39:08<07:39, 76.62s/it]"
          ]
        },
        {
          "output_type": "stream",
          "name": "stdout",
          "text": [
            "🔍 Summarizing article 77 with facebook/bart-large-cnn\n",
            "🔍 Summarizing article 77 with google/pegasus-xsum\n",
            "🔍 Summarizing article 77 with google/pegasus-multi_news\n",
            "🔍 Summarizing article 77 with google/pegasus-cnn_dailymail\n"
          ]
        },
        {
          "output_type": "stream",
          "name": "stderr",
          "text": [
            "\rSummarizing articles:  94%|█████████▍| 78/83 [1:40:29<06:29, 77.94s/it]"
          ]
        },
        {
          "output_type": "stream",
          "name": "stdout",
          "text": [
            "🔍 Summarizing article 78 with facebook/bart-large-cnn\n",
            "🔍 Summarizing article 78 with google/pegasus-xsum\n",
            "🔍 Summarizing article 78 with google/pegasus-multi_news\n",
            "🔍 Summarizing article 78 with google/pegasus-cnn_dailymail\n"
          ]
        },
        {
          "output_type": "stream",
          "name": "stderr",
          "text": [
            "\rSummarizing articles:  95%|█████████▌| 79/83 [1:41:51<05:16, 79.09s/it]"
          ]
        },
        {
          "output_type": "stream",
          "name": "stdout",
          "text": [
            "🔍 Summarizing article 79 with facebook/bart-large-cnn\n",
            "🔍 Summarizing article 79 with google/pegasus-xsum\n",
            "🔍 Summarizing article 79 with google/pegasus-multi_news\n",
            "🔍 Summarizing article 79 with google/pegasus-cnn_dailymail\n"
          ]
        },
        {
          "output_type": "stream",
          "name": "stderr",
          "text": [
            "\rSummarizing articles:  96%|█████████▋| 80/83 [1:43:08<03:55, 78.37s/it]"
          ]
        },
        {
          "output_type": "stream",
          "name": "stdout",
          "text": [
            "🔍 Summarizing article 80 with facebook/bart-large-cnn\n",
            "🔍 Summarizing article 80 with google/pegasus-xsum\n",
            "🔍 Summarizing article 80 with google/pegasus-multi_news\n",
            "🔍 Summarizing article 80 with google/pegasus-cnn_dailymail\n"
          ]
        },
        {
          "output_type": "stream",
          "name": "stderr",
          "text": [
            "\rSummarizing articles:  98%|█████████▊| 81/83 [1:44:14<02:29, 74.81s/it]"
          ]
        },
        {
          "output_type": "stream",
          "name": "stdout",
          "text": [
            "🔍 Summarizing article 81 with facebook/bart-large-cnn\n",
            "🔍 Summarizing article 81 with google/pegasus-xsum\n",
            "🔍 Summarizing article 81 with google/pegasus-multi_news\n",
            "🔍 Summarizing article 81 with google/pegasus-cnn_dailymail\n"
          ]
        },
        {
          "output_type": "stream",
          "name": "stderr",
          "text": [
            "\rSummarizing articles:  99%|█████████▉| 82/83 [1:45:47<01:20, 80.14s/it]"
          ]
        },
        {
          "output_type": "stream",
          "name": "stdout",
          "text": [
            "🔍 Summarizing article 82 with facebook/bart-large-cnn\n",
            "🔍 Summarizing article 82 with google/pegasus-xsum\n",
            "🔍 Summarizing article 82 with google/pegasus-multi_news\n",
            "🔍 Summarizing article 82 with google/pegasus-cnn_dailymail\n"
          ]
        },
        {
          "output_type": "stream",
          "name": "stderr",
          "text": [
            "Summarizing articles: 100%|██████████| 83/83 [1:47:04<00:00, 77.41s/it]\n"
          ]
        }
      ]
    },
    {
      "cell_type": "markdown",
      "source": [
        "## Exporting Data\n",
        "\n",
        "This function's main job is to take the summarized articles and save them into two separate files: one for training a machine learning model and one for testing it. These files are in JSONL format, which means each line is a JSON object representing a single article and its summary."
      ],
      "metadata": {
        "id": "H6FUnUJMfYjT"
      }
    },
    {
      "cell_type": "markdown",
      "source": [
        "### JSONL vs JSON for Machine Learning Datasets\n",
        "While both JSON and JSONL can store data, JSONL (JSON Lines) is often a better choice for large datasets used in machine learning.\n",
        "So now the code is account for scalability.\n",
        "\n",
        "Here's why:\n",
        "\n",
        "1. Efficiency and Scalability:\n",
        "\n",
        "  * JSONL: Each article and its summary are stored on a separate line. This makes it much faster and easier to process large datasets because you can read and parse each line independently.\n",
        "  * JSON: The entire dataset is stored as a single, large JSON object. This can become very slow and memory-intensive to work with when dealing with many articles.\n",
        "\n",
        "2. Ease of Streaming:\n",
        "\n",
        "  * JSONL: Its line-by-line structure makes it ideal for streaming data. You can start processing articles immediately as they're read, without having to load the entire dataset into memory first. This is crucial for very large datasets that might not fit in memory.\n",
        "  * JSON: Requires loading the entire file into memory before processing, which can be problematic for large datasets.\n",
        "\n",
        "3. Flexibility:\n",
        "\n",
        "  * JSONL: Each line can have a slightly different structure if needed, as long as it's valid JSON. This can be useful when dealing with data that has variations or optional fields.\n",
        "  * JSON: Requires a strict, consistent structure for the entire dataset."
      ],
      "metadata": {
        "id": "GF5-YXe4fkzB"
      }
    },
    {
      "cell_type": "code",
      "source": [
        "def export_articles_to_jsonl(summarized_articles, summary_key, train_file=\"train_dataset.jsonl\", test_file=\"test_dataset.jsonl\", train_size=50):\n",
        "    \"\"\"\n",
        "    This function exports summarized articles to JSONL format, splitting them into training and testing\n",
        "    datasets based on a specified size.\n",
        "\n",
        "    :param summarized_articles: The `summarized_articles` parameter is a list of dictionaries where each\n",
        "    dictionary represents an article with keys like \"clean_content\" and the specified `summary_key`\n",
        "    containing the article content and its summary respectively. The function `export_articles_to_jsonl`\n",
        "    takes this list of articles and exports them to\n",
        "    :param summary_key: The `summary_key` parameter in the `export_articles_to_jsonl` function is used\n",
        "    to specify the key in each article dictionary that contains the summary information. This key is\n",
        "    used to extract the summary from the article dictionary and include it in the exported JSONL files\n",
        "    :param train_file: The `train_file` parameter is the file path where the training dataset will be\n",
        "    exported in JSONL format. By default, it is set to \"train_dataset.jsonl\", defaults to\n",
        "    train_dataset.jsonl (optional)\n",
        "    :param test_file: The `test_file` parameter in the `export_articles_to_jsonl` function is the file\n",
        "    path where the test dataset will be exported in JSONL format. This file will contain articles from\n",
        "    the `summarized_articles` list starting from the index `train_size` onwards, defaults to\n",
        "    test_dataset.jsonl (optional)\n",
        "    :param train_size: The `train_size` parameter in the `export_articles_to_jsonl` function specifies\n",
        "    the number of articles that will be included in the training dataset. In this case, the function\n",
        "    will export the first `train_size` articles to the `train_dataset.jsonl` file, and the remaining\n",
        "    articles will, defaults to 50 (optional)\n",
        "    \"\"\"\n",
        "    try:\n",
        "        with open(train_file, \"w\", encoding=\"utf-8\") as f:\n",
        "            for article in summarized_articles[:train_size]:\n",
        "                json.dump({\"text\": article[\"clean_content\"], \"summary\": article[summary_key]}, f)\n",
        "                f.write(\"\\n\")\n",
        "    except Exception as e:\n",
        "        print(f\"Error exporting articles to {train_file}: {e}\")\n",
        "\n",
        "    try:\n",
        "        with open(test_file, \"w\", encoding=\"utf-8\") as f:\n",
        "            for article in summarized_articles[train_size:]:\n",
        "                json.dump({\"text\": article[\"clean_content\"], \"summary\": article[summary_key]}, f)\n",
        "                f.write(\"\\n\")\n",
        "    except Exception as e:\n",
        "        print(f\"Error exporting articles to {test_file}: {e}\")\n"
      ],
      "metadata": {
        "id": "RC2QjFZ0c-Uo"
      },
      "execution_count": 12,
      "outputs": []
    },
    {
      "cell_type": "code",
      "source": [
        "export_articles_to_jsonl(summarized_articles, \"summary_facebook/bart-large-cnn\", train_file=\"train_bart-large-cnn.jsonl\", test_file=\"test_bart-large-cnn.jsonl\")\n",
        "export_articles_to_jsonl(summarized_articles, \"summary_google/pegasus-xsum\", train_file=\"train_pegasus-xsum.jsonl\", test_file=\"test_pegasus-xsum.jsonl\")\n",
        "export_articles_to_jsonl(summarized_articles, \"summary_google/pegasus-multi_news\", train_file=\"train_pegasus-multi_news.jsonl\", test_file=\"test_pegasus-multi_news.jsonl\")\n",
        "export_articles_to_jsonl(summarized_articles, \"summary_google/pegasus-cnn_dailymail\", train_file=\"train_pegasus-cnn_dailymail.jsonl\", test_file=\"test_pegasus-cnn_dailymail.jsonl\")"
      ],
      "metadata": {
        "id": "SNS54yQrdEpk"
      },
      "execution_count": 13,
      "outputs": []
    },
    {
      "cell_type": "code",
      "source": [
        "# Export articles to JSON files for training (fine-tune) process\n",
        "try:\n",
        "    with open(\"train_dataset.jsonl\", \"w\", encoding=\"utf-8\") as f:\n",
        "        for article in summarized_articles[0:50]:\n",
        "            json.dump({\"text\": article[\"clean_content\"], \"summary\": article[\"summary_facebook/bart-large-cnn\"]}, f)\n",
        "            f.write(\"\\n\")\n",
        "except Exception as e:\n",
        "    print(f\"Error exporting articles to JSONL: {e}\")\n",
        "\n",
        "try:\n",
        "    with open(\"test_dataset.jsonl\", \"w\", encoding=\"utf-8\") as f:\n",
        "        for article in summarized_articles[50:]:\n",
        "            json.dump({\"text\": article[\"clean_content\"], \"summary\": article[\"summary_facebook/bart-large-cnn\"]}, f)\n",
        "            f.write(\"\\n\")\n",
        "except Exception as e:\n",
        "    print(f\"Error exporting articles to JSONL: {e}\")"
      ],
      "metadata": {
        "id": "OZea_9QZyJBw"
      },
      "execution_count": 14,
      "outputs": []
    },
    {
      "cell_type": "code",
      "source": [
        "# Export articles to JSON files for prediction process\n",
        "try:\n",
        "    with open(\"train_summarized_articles.jsonl\", \"w\") as json_file:\n",
        "        json.dump(summarized_articles[0:50], json_file, indent=4)\n",
        "    print(\"Articles exported to train_summarized_articles.jsonl\")\n",
        "except Exception as e:\n",
        "    print(f\"Error exporting articles to JSON: {e}\")\n",
        "\n",
        "try:\n",
        "    with open(\"test_summarized_articles.jsonl\", \"w\") as json_file:\n",
        "        json.dump(summarized_articles[50:], json_file, indent=4)\n",
        "    print(\"Articles exported to test_summarized_articles.jsonl\")\n",
        "except Exception as e:\n",
        "    print(f\"Error exporting articles to JSON: {e}\")"
      ],
      "metadata": {
        "colab": {
          "base_uri": "https://localhost:8080/"
        },
        "id": "4Lf4xVs2Oxej",
        "outputId": "5bd456cf-fa7b-447a-a48f-bf5e69324190"
      },
      "execution_count": 15,
      "outputs": [
        {
          "output_type": "stream",
          "name": "stdout",
          "text": [
            "Articles exported to train_summarized_articles.jsonl\n",
            "Articles exported to test_summarized_articles.jsonl\n"
          ]
        }
      ]
    }
  ]
}